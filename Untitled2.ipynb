{
 "cells": [
  {
   "cell_type": "code",
   "execution_count": 20,
   "id": "1e6e8d77-5c09-4830-b87a-6dcafa0f353b",
   "metadata": {},
   "outputs": [
    {
     "name": "stdout",
     "output_type": "stream",
     "text": [
      "Columns: ['Unnamed: 0', 'label', 'text', 'label_num']\n",
      "Shape: (5171, 4)\n"
     ]
    },
    {
     "data": {
      "text/html": [
       "<div>\n",
       "<style scoped>\n",
       "    .dataframe tbody tr th:only-of-type {\n",
       "        vertical-align: middle;\n",
       "    }\n",
       "\n",
       "    .dataframe tbody tr th {\n",
       "        vertical-align: top;\n",
       "    }\n",
       "\n",
       "    .dataframe thead th {\n",
       "        text-align: right;\n",
       "    }\n",
       "</style>\n",
       "<table border=\"1\" class=\"dataframe\">\n",
       "  <thead>\n",
       "    <tr style=\"text-align: right;\">\n",
       "      <th></th>\n",
       "      <th>Unnamed: 0</th>\n",
       "      <th>label</th>\n",
       "      <th>text</th>\n",
       "      <th>label_num</th>\n",
       "    </tr>\n",
       "  </thead>\n",
       "  <tbody>\n",
       "    <tr>\n",
       "      <th>0</th>\n",
       "      <td>605</td>\n",
       "      <td>ham</td>\n",
       "      <td>Subject: enron methanol ; meter # : 988291\\r\\n...</td>\n",
       "      <td>0</td>\n",
       "    </tr>\n",
       "    <tr>\n",
       "      <th>1</th>\n",
       "      <td>2349</td>\n",
       "      <td>ham</td>\n",
       "      <td>Subject: hpl nom for january 9 , 2001\\r\\n( see...</td>\n",
       "      <td>0</td>\n",
       "    </tr>\n",
       "    <tr>\n",
       "      <th>2</th>\n",
       "      <td>3624</td>\n",
       "      <td>ham</td>\n",
       "      <td>Subject: neon retreat\\r\\nho ho ho , we ' re ar...</td>\n",
       "      <td>0</td>\n",
       "    </tr>\n",
       "    <tr>\n",
       "      <th>3</th>\n",
       "      <td>4685</td>\n",
       "      <td>spam</td>\n",
       "      <td>Subject: photoshop , windows , office . cheap ...</td>\n",
       "      <td>1</td>\n",
       "    </tr>\n",
       "    <tr>\n",
       "      <th>4</th>\n",
       "      <td>2030</td>\n",
       "      <td>ham</td>\n",
       "      <td>Subject: re : indian springs\\r\\nthis deal is t...</td>\n",
       "      <td>0</td>\n",
       "    </tr>\n",
       "  </tbody>\n",
       "</table>\n",
       "</div>"
      ],
      "text/plain": [
       "   Unnamed: 0 label                                               text  \\\n",
       "0         605   ham  Subject: enron methanol ; meter # : 988291\\r\\n...   \n",
       "1        2349   ham  Subject: hpl nom for january 9 , 2001\\r\\n( see...   \n",
       "2        3624   ham  Subject: neon retreat\\r\\nho ho ho , we ' re ar...   \n",
       "3        4685  spam  Subject: photoshop , windows , office . cheap ...   \n",
       "4        2030   ham  Subject: re : indian springs\\r\\nthis deal is t...   \n",
       "\n",
       "   label_num  \n",
       "0          0  \n",
       "1          0  \n",
       "2          0  \n",
       "3          1  \n",
       "4          0  "
      ]
     },
     "metadata": {},
     "output_type": "display_data"
    }
   ],
   "source": [
    "import pandas as pd\n",
    "p = 'Downloads/spam_ham_database.csv'\n",
    "df = pd.read_csv(p)\n",
    "print(\"Columns:\", df.columns.tolist())\n",
    "print(\"Shape:\", df.shape)\n",
    "display(df.head())\n"
   ]
  },
  {
   "cell_type": "code",
   "execution_count": 21,
   "id": "0e8d8f97-e63d-46f3-85d5-ce3454a2f768",
   "metadata": {},
   "outputs": [
    {
     "name": "stdout",
     "output_type": "stream",
     "text": [
      "Text candidates found: ['text']\n",
      "Label candidates found: ['label']\n",
      "Using text_col = text and label_col = label\n"
     ]
    },
    {
     "data": {
      "text/html": [
       "<div>\n",
       "<style scoped>\n",
       "    .dataframe tbody tr th:only-of-type {\n",
       "        vertical-align: middle;\n",
       "    }\n",
       "\n",
       "    .dataframe tbody tr th {\n",
       "        vertical-align: top;\n",
       "    }\n",
       "\n",
       "    .dataframe thead th {\n",
       "        text-align: right;\n",
       "    }\n",
       "</style>\n",
       "<table border=\"1\" class=\"dataframe\">\n",
       "  <thead>\n",
       "    <tr style=\"text-align: right;\">\n",
       "      <th></th>\n",
       "      <th>text</th>\n",
       "      <th>label</th>\n",
       "    </tr>\n",
       "  </thead>\n",
       "  <tbody>\n",
       "    <tr>\n",
       "      <th>0</th>\n",
       "      <td>Subject: enron methanol ; meter # : 988291\\r\\n...</td>\n",
       "      <td>ham</td>\n",
       "    </tr>\n",
       "    <tr>\n",
       "      <th>1</th>\n",
       "      <td>Subject: hpl nom for january 9 , 2001\\r\\n( see...</td>\n",
       "      <td>ham</td>\n",
       "    </tr>\n",
       "    <tr>\n",
       "      <th>2</th>\n",
       "      <td>Subject: neon retreat\\r\\nho ho ho , we ' re ar...</td>\n",
       "      <td>ham</td>\n",
       "    </tr>\n",
       "    <tr>\n",
       "      <th>3</th>\n",
       "      <td>Subject: photoshop , windows , office . cheap ...</td>\n",
       "      <td>spam</td>\n",
       "    </tr>\n",
       "    <tr>\n",
       "      <th>4</th>\n",
       "      <td>Subject: re : indian springs\\r\\nthis deal is t...</td>\n",
       "      <td>ham</td>\n",
       "    </tr>\n",
       "  </tbody>\n",
       "</table>\n",
       "</div>"
      ],
      "text/plain": [
       "                                                text label\n",
       "0  Subject: enron methanol ; meter # : 988291\\r\\n...   ham\n",
       "1  Subject: hpl nom for january 9 , 2001\\r\\n( see...   ham\n",
       "2  Subject: neon retreat\\r\\nho ho ho , we ' re ar...   ham\n",
       "3  Subject: photoshop , windows , office . cheap ...  spam\n",
       "4  Subject: re : indian springs\\r\\nthis deal is t...   ham"
      ]
     },
     "metadata": {},
     "output_type": "display_data"
    }
   ],
   "source": [
    "# choose text & label columns robustly\n",
    "cols = [c.lower() for c in df.columns]\n",
    "\n",
    "# candidates\n",
    "text_candidates = [c for c in df.columns if c.lower() in ('text','message','v2','body','email','message_text','content')]\n",
    "label_candidates = [c for c in df.columns if c.lower() in ('label','class','v1','target')]\n",
    "\n",
    "print(\"Text candidates found:\", text_candidates)\n",
    "print(\"Label candidates found:\", label_candidates)\n",
    "\n",
    "# decide\n",
    "text_col = text_candidates[0] if text_candidates else df.columns[1]   # fallback 2nd column\n",
    "label_col = label_candidates[0] if label_candidates else df.columns[0] # fallback 1st column\n",
    "\n",
    "print(\"Using text_col =\", text_col, \"and label_col =\", label_col)\n",
    "\n",
    "# create a clean DataFrame with expected column names\n",
    "df = df[[text_col, label_col]].rename(columns={text_col: 'text', label_col: 'label'})\n",
    "display(df.head())\n"
   ]
  },
  {
   "cell_type": "code",
   "execution_count": 22,
   "id": "7cacde75-d2b6-4a0d-a1be-b7bd8b1f96a0",
   "metadata": {},
   "outputs": [
    {
     "name": "stdout",
     "output_type": "stream",
     "text": [
      "After cleaning, sample:\n"
     ]
    },
    {
     "data": {
      "text/html": [
       "<div>\n",
       "<style scoped>\n",
       "    .dataframe tbody tr th:only-of-type {\n",
       "        vertical-align: middle;\n",
       "    }\n",
       "\n",
       "    .dataframe tbody tr th {\n",
       "        vertical-align: top;\n",
       "    }\n",
       "\n",
       "    .dataframe thead th {\n",
       "        text-align: right;\n",
       "    }\n",
       "</style>\n",
       "<table border=\"1\" class=\"dataframe\">\n",
       "  <thead>\n",
       "    <tr style=\"text-align: right;\">\n",
       "      <th></th>\n",
       "      <th>label</th>\n",
       "      <th>text</th>\n",
       "      <th>text_clean</th>\n",
       "    </tr>\n",
       "  </thead>\n",
       "  <tbody>\n",
       "    <tr>\n",
       "      <th>0</th>\n",
       "      <td>0</td>\n",
       "      <td>Subject: enron methanol ; meter # : 988291\\r\\n...</td>\n",
       "      <td>subject enron methanol meter this is a follow ...</td>\n",
       "    </tr>\n",
       "    <tr>\n",
       "      <th>1</th>\n",
       "      <td>0</td>\n",
       "      <td>Subject: hpl nom for january 9 , 2001\\r\\n( see...</td>\n",
       "      <td>subject hpl nom for january see attached file ...</td>\n",
       "    </tr>\n",
       "    <tr>\n",
       "      <th>2</th>\n",
       "      <td>0</td>\n",
       "      <td>Subject: neon retreat\\r\\nho ho ho , we ' re ar...</td>\n",
       "      <td>subject neon retreat ho ho ho we re around to ...</td>\n",
       "    </tr>\n",
       "    <tr>\n",
       "      <th>3</th>\n",
       "      <td>1</td>\n",
       "      <td>Subject: photoshop , windows , office . cheap ...</td>\n",
       "      <td>subject photoshop windows office cheap main tr...</td>\n",
       "    </tr>\n",
       "    <tr>\n",
       "      <th>4</th>\n",
       "      <td>0</td>\n",
       "      <td>Subject: re : indian springs\\r\\nthis deal is t...</td>\n",
       "      <td>subject re indian springs this deal is to book...</td>\n",
       "    </tr>\n",
       "  </tbody>\n",
       "</table>\n",
       "</div>"
      ],
      "text/plain": [
       "   label                                               text  \\\n",
       "0      0  Subject: enron methanol ; meter # : 988291\\r\\n...   \n",
       "1      0  Subject: hpl nom for january 9 , 2001\\r\\n( see...   \n",
       "2      0  Subject: neon retreat\\r\\nho ho ho , we ' re ar...   \n",
       "3      1  Subject: photoshop , windows , office . cheap ...   \n",
       "4      0  Subject: re : indian springs\\r\\nthis deal is t...   \n",
       "\n",
       "                                          text_clean  \n",
       "0  subject enron methanol meter this is a follow ...  \n",
       "1  subject hpl nom for january see attached file ...  \n",
       "2  subject neon retreat ho ho ho we re around to ...  \n",
       "3  subject photoshop windows office cheap main tr...  \n",
       "4  subject re indian springs this deal is to book...  "
      ]
     },
     "metadata": {},
     "output_type": "display_data"
    },
    {
     "name": "stdout",
     "output_type": "stream",
     "text": [
      "Label value counts: label\n",
      "0    3672\n",
      "1    1499\n",
      "Name: count, dtype: int64\n"
     ]
    }
   ],
   "source": [
    "# If you used clean_text_no_stopwords earlier, replace with that name. Ensure it's defined.\n",
    "# For safety, define a lightweight fallback clean_text if missing:\n",
    "import re\n",
    "def clean_text_fallback(s):\n",
    "    if s is None: return \"\"\n",
    "    s = str(s).lower()\n",
    "    s = re.sub(r'https?://\\S+|www\\.\\S+', ' urltoken ', s)\n",
    "    s = re.sub(r'\\S+@\\S+\\.\\S+', ' emailtoken ', s)\n",
    "    s = re.sub(r'\\d+', ' numbertoken ', s)\n",
    "    s = re.sub(r'[^a-z\\s]', ' ', s)\n",
    "    s = re.sub(r'\\s+', ' ', s).strip()\n",
    "    return s\n",
    "\n",
    "# pick your cleaning function; if you defined clean_text earlier, use that name\n",
    "cleaner = globals().get('clean_text_no_stopwords', globals().get('clean_text', clean_text_fallback))\n",
    "\n",
    "# apply label mapping robustly\n",
    "df['label'] = df['label'].astype(str).str.strip().str.lower().map(lambda x: 1 if 'spam' in x or x=='1' else 0)\n",
    "df['text_clean'] = df['text'].fillna('').apply(cleaner)\n",
    "\n",
    "print(\"After cleaning, sample:\")\n",
    "display(df[['label','text','text_clean']].head())\n",
    "print(\"Label value counts:\", df['label'].value_counts())\n",
    "\n"
   ]
  },
  {
   "cell_type": "code",
   "execution_count": 11,
   "id": "18263fbf-4fbe-4ab1-9652-af9750c4a41a",
   "metadata": {},
   "outputs": [
    {
     "name": "stderr",
     "output_type": "stream",
     "text": [
      "[nltk_data] Error loading stopwords: <urlopen error [SSL:\n",
      "[nltk_data]     CERTIFICATE_VERIFY_FAILED] certificate verify failed:\n",
      "[nltk_data]     unable to get local issuer certificate (_ssl.c:1000)>\n"
     ]
    }
   ],
   "source": [
    "import re\n",
    "from nltk.corpus import stopwords\n",
    "import nltk\n",
    "\n",
    "# Try downloading stopwords, but make it optional\n",
    "try:\n",
    "    nltk.download('stopwords')\n",
    "    STOP = set(stopwords.words('english'))\n",
    "except:\n",
    "    STOP = set()  # fallback: no stopwords if download fails\n",
    "\n",
    "def clean_text(s):\n",
    "    s = str(s).lower()  # lowercase\n",
    "    \n",
    "    # remove URLs\n",
    "    s = re.sub(r'https?://\\S+|www\\.\\S+', ' ', s)\n",
    "    \n",
    "    # remove emails\n",
    "    s = re.sub(r'\\S+@\\S+', ' ', s)\n",
    "    \n",
    "    # remove all characters except letters and spaces\n",
    "    s = re.sub(r'[^a-z\\s]', ' ', s)\n",
    "    \n",
    "    # collapse multiple spaces\n",
    "    s = re.sub(r'\\s+', ' ', s).strip()\n",
    "    \n",
    "    # remove stopwords (only if available)\n",
    "    tokens = [w for w in s.split() if w not in STOP]\n",
    "    \n",
    "    return ' '.join(tokens)\n"
   ]
  },
  {
   "cell_type": "code",
   "execution_count": 23,
   "id": "71172e5f-f0c9-4c72-89df-43aec731c1c9",
   "metadata": {},
   "outputs": [
    {
     "name": "stdout",
     "output_type": "stream",
     "text": [
      "Pipeline trained. Vectorizer vocab size: 5000\n"
     ]
    }
   ],
   "source": [
    "# imports (run fresh)\n",
    "from sklearn.feature_extraction.text import TfidfVectorizer\n",
    "from sklearn.naive_bayes import MultinomialNB\n",
    "from sklearn.pipeline import Pipeline\n",
    "from sklearn.model_selection import train_test_split\n",
    "from sklearn import metrics\n",
    "\n",
    "# features & target\n",
    "X = df['text_clean'].astype(str)   # ensure dtype\n",
    "y = df['label'].astype(int)\n",
    "\n",
    "# stratified split with reproducibility\n",
    "X_train, X_test, y_train, y_test = train_test_split(X, y, test_size=0.2, stratify=y, random_state=42)\n",
    "\n",
    "# pipeline\n",
    "pipe = Pipeline([\n",
    "    ('tfidf', TfidfVectorizer(max_features=5000, ngram_range=(1,2))),\n",
    "    ('clf', MultinomialNB())\n",
    "])\n",
    "\n",
    "# train\n",
    "pipe.fit(X_train, y_train)\n",
    "print(\"Pipeline trained. Vectorizer vocab size:\", len(pipe.named_steps['tfidf'].vocabulary_))\n"
   ]
  },
  {
   "cell_type": "code",
   "execution_count": 24,
   "id": "b9a193ac-b8b4-4711-a05f-bfdb6c955cae",
   "metadata": {},
   "outputs": [
    {
     "name": "stdout",
     "output_type": "stream",
     "text": [
      "Accuracy: 0.936231884057971\n",
      "              precision    recall  f1-score   support\n",
      "\n",
      "         ham       0.98      0.93      0.95       735\n",
      "        spam       0.85      0.95      0.90       300\n",
      "\n",
      "    accuracy                           0.94      1035\n",
      "   macro avg       0.91      0.94      0.93      1035\n",
      "weighted avg       0.94      0.94      0.94      1035\n",
      "\n"
     ]
    },
    {
     "data": {
      "image/png": "[encoded data removed]",
      "text/plain": [
       "<Figure size 640x480 with 2 Axes>"
      ]
     },
     "metadata": {},
     "output_type": "display_data"
    }
   ],
   "source": [
    "y_pred = pipe.predict(X_test)\n",
    "print(\"Accuracy:\", metrics.accuracy_score(y_test, y_pred))\n",
    "print(metrics.classification_report(y_test, y_pred, target_names=['ham','spam']))\n",
    "\n",
    "# confusion matrix\n",
    "import seaborn as sns, matplotlib.pyplot as plt\n",
    "cm = metrics.confusion_matrix(y_test, y_pred)\n",
    "sns.heatmap(cm, annot=True, fmt='d', xticklabels=['ham','spam'], yticklabels=['ham','spam'])\n",
    "plt.xlabel('Predicted'); plt.ylabel('Actual'); plt.title('Confusion Matrix')\n",
    "plt.show()\n"
   ]
  },
  {
   "cell_type": "code",
   "execution_count": 25,
   "id": "602f6954-8c57-478a-91ff-e2d9d68a9e63",
   "metadata": {},
   "outputs": [
    {
     "name": "stdout",
     "output_type": "stream",
     "text": [
      "Saved pipeline to spam_pipeline.joblib\n"
     ]
    }
   ],
   "source": [
    "import joblib\n",
    "joblib.dump(pipe, \"spam_pipeline.joblib\")\n",
    "print(\"Saved pipeline to spam_pipeline.joblib\")\n"
   ]
  },
  {
   "cell_type": "code",
   "execution_count": null,
   "id": "7e967e64-ceeb-4158-95fd-567a138da00c",
   "metadata": {},
   "outputs": [],
   "source": []
  }
 ],
 "metadata": {
  "kernelspec": {
   "display_name": "Python 3 (ipykernel)",
   "language": "python",
   "name": "python3"
  },
  "language_info": {
   "codemirror_mode": {
    "name": "ipython",
    "version": 3
   },
   "file_extension": ".py",
   "mimetype": "text/x-python",
   "name": "python",
   "nbconvert_exporter": "python",
   "pygments_lexer": "ipython3",
   "version": "3.12.6"
  }
 },
 "nbformat": 4,
 "nbformat_minor": 5
}
